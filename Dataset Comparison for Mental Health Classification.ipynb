{
 "cells": [
  {
   "cell_type": "markdown",
   "metadata": {},
   "source": [
    "# Evaluating Dataset Performance in Mental Health Classification"
   ]
  },
  {
   "cell_type": "markdown",
   "metadata": {},
   "source": [
    "| Method      | Type | F1-Mac | P-Mac | R-Mac | F1-Mic | P-Mic | R-Mic | Avg.     |\n",
    "|-------------|------|--------|-------|-------|--------|-------|-------|----------|\n",
    "| **Dataset 1**                                                                       |\n",
    "| SVM         | ML   | 0.46   | 0.71  | 0.42  | 0.62   | 0.75  | 0.52  | 0.580000 |\n",
    "| Light GBM   | ML   | 0.58   | 0.48  | 0.80  | 0.65   | 0.52  | 0.86  | 0.648333 |\n",
    "| XGBoost     | ML   | 0.57   | 0.62  | 0.54  | 0.65   | 0.69  | 0.62  | 0.615000 |\n",
    "| GAN-BERT    | DL   | 0.70   | 0.69  | 0.72  | 0.75   | 0.73  | 0.77  | 0.726667 |\n",
    "| BERT        | DL   | 0.74   | 0.72  | 0.77  | 0.79   | 0.76  | 0.83  | 0.768333 |\n",
    "| BART        | DL   | 0.76   | 0.70  | 0.81  | 0.80   | 0.74  | 0.86  | 0.778333 |\n",
    "| **Dataset 2**                                                                       |\n",
    "| SVM         | ML   | 0.04   | 0.04  | 0.04  | 0.07   | 0.13  | 0.04  | 0.060000 |\n",
    "| Light GBM   | ML   | 0.04   | 0.03  | 0.03  | 0.06   | 0.12  | 0.04  | 0.053333 |\n",
    "| XGBoost     | ML   | 0.06   | 0.06  | 0.05  | 0.07   | 0.10  | 0.05  | 0.065000 |\n",
    "| GAN-BERT    | DL   |        |       |       |        |       |       |          |\n",
    "| BERT        | DL   |        |       |       |        |       |       |          |\n",
    "| BART        | DL   |        |       |       |        |       |       |          |\n",
    "| **Dataset 3**                                                                       |\n",
    "| SVM         | ML   | 0.12   | 0.25  | 0.11  | 0.16   | 0.26  | 0.12  | 0.170000 |\n",
    "| Light GBM   | ML   | 0.13   | 0.26  | 0.13  | 0.17   | 0.26  | 0.13  | 0.180000 |\n",
    "| XGBoost     | ML   | 0.12   | 0.25  | 0.11  | 0.16   | 0.26  | 0.12  | 0.170000 |\n",
    "| GAN-BERT    | DL   |        |       |       |        |       |       |          |\n",
    "| BERT        | DL   |        |       |       |        |       |       |          |\n",
    "| BART        | DL   |        |       |       |        |       |       |          |\n"
   ]
  },
  {
   "cell_type": "markdown",
   "metadata": {},
   "source": [
    "## Dataset 1"
   ]
  },
  {
   "cell_type": "code",
   "execution_count": 1,
   "metadata": {},
   "outputs": [],
   "source": [
    "emotion_list = ['anger', 'brain dysfunction (forget)', 'emptiness', 'hopelessness', 'loneliness', 'sadness', 'suicide intent', 'worthlessness']"
   ]
  },
  {
   "cell_type": "markdown",
   "metadata": {},
   "source": [
    "### 1. SVM"
   ]
  },
  {
   "cell_type": "code",
   "execution_count": 2,
   "metadata": {},
   "outputs": [
    {
     "name": "stderr",
     "output_type": "stream",
     "text": [
      "/home/pc02/ella/.venv/lib/python3.10/site-packages/tqdm/auto.py:21: TqdmWarning: IProgress not found. Please update jupyter and ipywidgets. See https://ipywidgets.readthedocs.io/en/stable/user_install.html\n",
      "  from .autonotebook import tqdm as notebook_tqdm\n",
      "/home/pc02/ella/.venv/lib/python3.10/site-packages/sklearn/utils/validation.py:1339: DataConversionWarning: A column-vector y was passed when a 1d array was expected. Please change the shape of y to (n_samples, ), for example using ravel().\n",
      "  y = column_or_1d(y, warn=True)\n"
     ]
    },
    {
     "name": "stdout",
     "output_type": "stream",
     "text": [
      "Fitting SVC took 35.74 seconds\n",
      "{'f1_micro': 0.6178690538880113, 'recall_micro': 0.5238095238095238, 'precision_micro': 0.753102267864784, 'f1_macro': 0.4619270084520876, 'recall_macro': 0.4203468366154963, 'precision_macro': 0.706436681375938}\n"
     ]
    }
   ],
   "source": [
    "from DepressionEmo.svm import SVM_MentalHealthClassifier\n",
    "\n",
    "classifier = SVM_MentalHealthClassifier(\n",
    "    train_path='./DepressionEmo/Dataset/train.json',\n",
    "    model_path='./Model/Dataset1/svc_model.pkl',\n",
    "    emotion_list=emotion_list,\n",
    "    val_path='./DepressionEmo/Dataset/val.json',\n",
    "    test_path='./DepressionEmo/Dataset/test.json',\n",
    "    dataset_type='dataset1'\n",
    ")\n",
    "\n",
    "x_train, x_val, x_test, y_train, y_val, y_test = classifier.load_and_process_data()\n",
    "model = classifier.train_model(x_train, y_train)\n",
    "metrics = classifier.evaluate_model(model, x_test, y_test)"
   ]
  },
  {
   "cell_type": "markdown",
   "metadata": {},
   "source": [
    "### 2. Light GBM"
   ]
  },
  {
   "cell_type": "code",
   "execution_count": 2,
   "metadata": {},
   "outputs": [
    {
     "name": "stdout",
     "output_type": "stream",
     "text": [
      "{'f1_micro': 0.6454908929364727, 'recall_micro': 0.8590008867868756, 'precision_micro': 0.5169898594556129, 'f1_macro': 0.5782674332411973, 'recall_macro': 0.7994555332835106, 'precision_macro': 0.478785406973599}\n"
     ]
    },
    {
     "data": {
      "text/plain": [
       "{'f1_micro': 0.6454908929364727,\n",
       " 'recall_micro': 0.8590008867868756,\n",
       " 'precision_micro': 0.5169898594556129,\n",
       " 'f1_macro': 0.5782674332411973,\n",
       " 'recall_macro': 0.7994555332835106,\n",
       " 'precision_macro': 0.478785406973599}"
      ]
     },
     "execution_count": 2,
     "metadata": {},
     "output_type": "execute_result"
    }
   ],
   "source": [
    "from DepressionEmo.light_gbm import LightGBM_MentalHealthClassifier\n",
    "\n",
    "classifier = LightGBM_MentalHealthClassifier(\n",
    "    train_path='DepressionEmo/Dataset/train.json',\n",
    "    val_path='DepressionEmo/Dataset/val.json',\n",
    "    test_path='DepressionEmo/Dataset/test.json',\n",
    "    model_save_path='./Model/Dataset1/LightGBM.txt',\n",
    "    emotion_list=emotion_list,\n",
    "    label_list=emotion_list,\n",
    "    dataset_type='dataset1'\n",
    ")\n",
    "\n",
    "classifier.train_model()"
   ]
  },
  {
   "cell_type": "markdown",
   "metadata": {},
   "source": [
    "### 3. XGBoost"
   ]
  },
  {
   "cell_type": "code",
   "execution_count": 2,
   "metadata": {},
   "outputs": [
    {
     "name": "stdout",
     "output_type": "stream",
     "text": [
      "Evaluation Results: {'f1_micro': 0.6454133458352868, 'recall_micro': 0.6104049660065031, 'precision_micro': 0.6846816976127321, 'f1_macro': 0.5747847886708597, 'recall_macro': 0.5423582185167811, 'precision_macro': 0.6135163527186734}\n"
     ]
    }
   ],
   "source": [
    "from DepressionEmo.xgb import XGB_MentalHealthClassifier\n",
    "\n",
    "classifier = XGB_MentalHealthClassifier(\n",
    "    train_path='DepressionEmo/Dataset/train.json',\n",
    "    val_path='DepressionEmo/Dataset/val.json',\n",
    "    test_path='DepressionEmo/Dataset/test.json',\n",
    "    model_path='./Model/Dataset1/XGB.pkl',\n",
    "    max_depth=8,\n",
    "    n_estimators=100,\n",
    "    learning_rate=0.5,\n",
    "    emotion_list = ['anger', 'brain dysfunction (forget)', 'emptiness', 'hopelessness', \n",
    "                             'loneliness', 'sadness', 'suicide intent', 'worthlessness']\n",
    ")\n",
    "\n",
    "x_train, x_test, x_val, y_train, y_test, y_val = classifier.load_data()\n",
    "model, label_encoder = classifier.train_model(x_train, y_train)\n",
    "result = classifier.evaluate_model(model, label_encoder, x_test, y_test)\n",
    "print(\"Evaluation Results:\", result)\n"
   ]
  },
  {
   "cell_type": "markdown",
   "metadata": {},
   "source": [
    "### 4. BERT"
   ]
  },
  {
   "cell_type": "markdown",
   "metadata": {},
   "source": [
    "Train"
   ]
  },
  {
   "cell_type": "code",
   "execution_count": 1,
   "metadata": {},
   "outputs": [
    {
     "name": "stdout",
     "output_type": "stream",
     "text": [
      "2024-12-22 23:34:19.831642: E tensorflow/compiler/xla/stream_executor/cuda/cuda_dnn.cc:9342] Unable to register cuDNN factory: Attempting to register factory for plugin cuDNN when one has already been registered\n",
      "2024-12-22 23:34:19.831802: E tensorflow/compiler/xla/stream_executor/cuda/cuda_fft.cc:609] Unable to register cuFFT factory: Attempting to register factory for plugin cuFFT when one has already been registered\n",
      "2024-12-22 23:34:19.836785: E tensorflow/compiler/xla/stream_executor/cuda/cuda_blas.cc:1518] Unable to register cuBLAS factory: Attempting to register factory for plugin cuBLAS when one has already been registered\n",
      "2024-12-22 23:34:20.507153: I tensorflow/core/platform/cpu_feature_guard.cc:182] This TensorFlow binary is optimized to use available CPU instructions in performance-critical operations.\n",
      "To enable the following instructions: AVX2 FMA, in other operations, rebuild TensorFlow with the appropriate compiler flags.\n",
      "/home/pc02/ella/.venv/lib/python3.10/site-packages/transformers/optimization.py:591: FutureWarning: This implementation of AdamW is deprecated and will be removed in a future version. Use the PyTorch implementation torch.optim.AdamW instead, or set `no_deprecation_warning=True` to disable this warning\n",
      "  warnings.warn(\n",
      "--------------------------------------------------\n",
      "Epoch 1/25\n",
      "Train loss: 4.41268094275534, Train f1 macro: 0.46389174700448066\n",
      "/home/pc02/ella/.venv/lib/python3.10/site-packages/sklearn/metrics/_classification.py:1531: UndefinedMetricWarning: Precision is ill-defined and being set to 0.0 in labels with no predicted samples. Use `zero_division` parameter to control this behavior.\n",
      "  _warn_prf(average, modifier, f\"{metric.capitalize()} is\", len(result))\n",
      "Val loss 3.984848012003982, Val f1 macro: 0.579479358141081\n",
      "val_f1_macro:  0.579479358141081\n",
      "train_f1_mac:  0.46389174700448066\n",
      "--------------------------------------------------\n",
      "--------------------------------------------------\n",
      "Epoch 2/25\n",
      "Train loss: 3.7079451048081222, Train f1 macro: 0.6571376171618202\n",
      "Val loss 3.553367750686512, Val f1 macro: 0.6599027040134839\n",
      "val_f1_macro:  0.6599027040134839\n",
      "train_f1_mac:  0.6571376171618202\n",
      "--------------------------------------------------\n",
      "--------------------------------------------------\n",
      "Epoch 3/25\n",
      "Train loss: 3.1778941213070557, Train f1 macro: 0.7291085458493125\n",
      "Val loss 3.3595674811748037, Val f1 macro: 0.7031473929715538\n",
      "val_f1_macro:  0.7031473929715538\n",
      "train_f1_mac:  0.7291085458493125\n",
      "--------------------------------------------------\n",
      "--------------------------------------------------\n",
      "Epoch 4/25\n",
      "Train loss: 2.728907211065743, Train f1 macro: 0.7735639268237431\n",
      "Val loss 3.2578765227083575, Val f1 macro: 0.714799418883475\n",
      "val_f1_macro:  0.714799418883475\n",
      "train_f1_mac:  0.7735639268237431\n",
      "--------------------------------------------------\n",
      "--------------------------------------------------\n",
      "Epoch 5/25\n",
      "Train loss: 2.3433919230120392, Train f1 macro: 0.8121101395844225\n",
      "Val loss 3.267236388566201, Val f1 macro: 0.7134279803857796\n",
      "val_f1_macro:  0.7134279803857796\n",
      "train_f1_mac:  0.8121101395844225\n",
      "--------------------------------------------------\n",
      "--------------------------------------------------\n",
      "Epoch 6/25\n",
      "Train loss: 2.019783610094247, Train f1 macro: 0.8427829850901825\n",
      "Val loss 3.31552651472259, Val f1 macro: 0.7387133047678525\n",
      "val_f1_macro:  0.7387133047678525\n",
      "train_f1_mac:  0.8427829850901825\n",
      "--------------------------------------------------\n",
      "--------------------------------------------------\n",
      "Epoch 7/25\n",
      "Train loss: 1.7615964478040238, Train f1 macro: 0.8616295161685804\n",
      "Val loss 3.395522632096943, Val f1 macro: 0.7544838512616128\n",
      "val_f1_macro:  0.7544838512616128\n",
      "train_f1_mac:  0.8616295161685804\n",
      "--------------------------------------------------\n",
      "--------------------------------------------------\n",
      "Epoch 8/25\n",
      "Train loss: 1.5322025606447447, Train f1 macro: 0.8820535212580857\n",
      "Val loss 3.355434650914711, Val f1 macro: 0.760813376595139\n",
      "val_f1_macro:  0.760813376595139\n",
      "train_f1_mac:  0.8820535212580857\n",
      "--------------------------------------------------\n",
      "--------------------------------------------------\n",
      "Epoch 9/25\n",
      "Train loss: 1.3176355612638542, Train f1 macro: 0.9044752907138685\n",
      "Val loss 3.4414951435306618, Val f1 macro: 0.7464489011825917\n",
      "val_f1_macro:  0.7464489011825917\n",
      "train_f1_mac:  0.9044752907138685\n",
      "--------------------------------------------------\n",
      "--------------------------------------------------\n",
      "Epoch 10/25\n",
      "Train loss: 1.1365696976845117, Train f1 macro: 0.9195587470853926\n",
      "Val loss 3.471333070805198, Val f1 macro: 0.7421293764675196\n",
      "val_f1_macro:  0.7421293764675196\n",
      "train_f1_mac:  0.9195587470853926\n",
      "--------------------------------------------------\n",
      "--------------------------------------------------\n",
      "Epoch 11/25\n",
      "Train loss: 0.9839507693632564, Train f1 macro: 0.9324306214612986\n",
      "Val loss 3.5563499571984276, Val f1 macro: 0.7578466343544911\n",
      "val_f1_macro:  0.7578466343544911\n",
      "train_f1_mac:  0.9324306214612986\n",
      "--------------------------------------------------\n",
      "--------------------------------------------------\n",
      "Epoch 12/25\n",
      "Train loss: 0.840679944336189, Train f1 macro: 0.9439608815267964\n",
      "Val loss 3.6590850750605264, Val f1 macro: 0.7643290588071792\n",
      "val_f1_macro:  0.7643290588071792\n",
      "train_f1_mac:  0.9439608815267964\n",
      "--------------------------------------------------\n",
      "--------------------------------------------------\n",
      "Epoch 13/25\n",
      "Train loss: 0.7384954758326475, Train f1 macro: 0.9520335989304365\n",
      "Val loss 3.7019062533713223, Val f1 macro: 0.7590154549765258\n",
      "val_f1_macro:  0.7590154549765258\n",
      "train_f1_mac:  0.9520335989304365\n",
      "--------------------------------------------------\n",
      "--------------------------------------------------\n",
      "Epoch 14/25\n",
      "Train loss: 0.6430007972682357, Train f1 macro: 0.9605951376901136\n",
      "Val loss 3.786762163304446, Val f1 macro: 0.759718252971046\n",
      "val_f1_macro:  0.759718252971046\n",
      "train_f1_mac:  0.9605951376901136\n",
      "--------------------------------------------------\n",
      "--------------------------------------------------\n",
      "Epoch 15/25\n",
      "Train loss: 0.5660979560486592, Train f1 macro: 0.964888690201508\n",
      "Val loss 3.8213008328488, Val f1 macro: 0.7635186312077824\n",
      "val_f1_macro:  0.7635186312077824\n",
      "train_f1_mac:  0.964888690201508\n",
      "--------------------------------------------------\n",
      "--------------------------------------------------\n",
      "Epoch 16/25\n",
      "Train loss: 0.49808205802535854, Train f1 macro: 0.9694777999829304\n",
      "Val loss 3.866268368143784, Val f1 macro: 0.7615918513541831\n",
      "val_f1_macro:  0.7615918513541831\n",
      "train_f1_mac:  0.9694777999829304\n",
      "--------------------------------------------------\n",
      "--------------------------------------------------\n",
      "Epoch 17/25\n",
      "Train loss: 0.44118239484473865, Train f1 macro: 0.9752035468024892\n",
      "Val loss 3.903524607942815, Val f1 macro: 0.7625989159997131\n",
      "val_f1_macro:  0.7625989159997131\n",
      "train_f1_mac:  0.9752035468024892\n",
      "--------------------------------------------------\n",
      "--------------------------------------------------\n",
      "Epoch 18/25\n",
      "Train loss: 0.3927911474107147, Train f1 macro: 0.9778246230266973\n",
      "Val loss 3.9306013688706516, Val f1 macro: 0.7642598839764246\n",
      "val_f1_macro:  0.7642598839764246\n",
      "train_f1_mac:  0.9778246230266973\n",
      "--------------------------------------------------\n",
      "--------------------------------------------------\n",
      "Epoch 19/25\n",
      "Train loss: 0.35564246681291745, Train f1 macro: 0.9808110770542662\n",
      "Val loss 4.010531884536409, Val f1 macro: 0.7588841392885096\n",
      "val_f1_macro:  0.7588841392885096\n",
      "train_f1_mac:  0.9808110770542662\n",
      "--------------------------------------------------\n",
      "--------------------------------------------------\n",
      "Epoch 20/25\n",
      "Train loss: 0.3239130621533031, Train f1 macro: 0.9838062973711758\n",
      "Val loss 4.067518893041108, Val f1 macro: 0.7640473087773352\n",
      "val_f1_macro:  0.7640473087773352\n",
      "train_f1_mac:  0.9838062973711758\n",
      "--------------------------------------------------\n",
      "--------------------------------------------------\n",
      "Epoch 21/25\n",
      "Train loss: 0.3028190085912627, Train f1 macro: 0.9854732702660056\n",
      "Val loss 4.09832870646527, Val f1 macro: 0.7616909583412079\n",
      "val_f1_macro:  0.7616909583412079\n",
      "train_f1_mac:  0.9854732702660056\n",
      "--------------------------------------------------\n",
      "--------------------------------------------------\n",
      "Epoch 22/25\n",
      "Train loss: 0.28122108093232256, Train f1 macro: 0.9866421909730085\n",
      "Val loss 4.106243547640349, Val f1 macro: 0.7633583624300456\n",
      "val_f1_macro:  0.7633583624300456\n",
      "train_f1_mac:  0.9866421909730085\n",
      "--------------------------------------------------\n",
      "--------------------------------------------------\n",
      "Epoch 23/25\n",
      "Train loss: 0.2687144124412131, Train f1 macro: 0.9872816013118998\n",
      "Val loss 4.14718086468546, Val f1 macro: 0.7565263392002968\n",
      "val_f1_macro:  0.7565263392002968\n",
      "train_f1_mac:  0.9872816013118998\n",
      "--------------------------------------------------\n",
      "--------------------------------------------------\n",
      "Epoch 24/25\n",
      "Train loss: 0.2574933096335141, Train f1 macro: 0.989136851414141\n",
      "Val loss 4.138855310908535, Val f1 macro: 0.7622156753230601\n",
      "val_f1_macro:  0.7622156753230601\n",
      "train_f1_mac:  0.989136851414141\n",
      "--------------------------------------------------\n",
      "--------------------------------------------------\n",
      "Epoch 25/25\n",
      "Train loss: 0.2542631276645513, Train f1 macro: 0.9894032101685004\n",
      "Val loss 4.1297943654813265, Val f1 macro: 0.7625152766946581\n",
      "val_f1_macro:  0.7625152766946581\n",
      "train_f1_mac:  0.9894032101685004\n",
      "--------------------------------------------------\n"
     ]
    }
   ],
   "source": [
    "!python ./DepressionEmo/bert.py  --mode \"train\" --model_name \"bert-base-cased\" --epochs 25 --batch_size 8 --max_length 256 --train_path \"DepressionEmo/Dataset/train.json\" --val_path \"DepressionEmo/Dataset/val.json\" --test_path \"DepressionEmo/Dataset/test.json\""
   ]
  },
  {
   "cell_type": "code",
   "execution_count": 3,
   "metadata": {},
   "outputs": [
    {
     "name": "stdout",
     "output_type": "stream",
     "text": [
      "2024-12-23 06:53:05.109905: E tensorflow/compiler/xla/stream_executor/cuda/cuda_dnn.cc:9342] Unable to register cuDNN factory: Attempting to register factory for plugin cuDNN when one has already been registered\n",
      "2024-12-23 06:53:05.109951: E tensorflow/compiler/xla/stream_executor/cuda/cuda_fft.cc:609] Unable to register cuFFT factory: Attempting to register factory for plugin cuFFT when one has already been registered\n",
      "2024-12-23 06:53:05.109970: E tensorflow/compiler/xla/stream_executor/cuda/cuda_blas.cc:1518] Unable to register cuBLAS factory: Attempting to register factory for plugin cuBLAS when one has already been registered\n",
      "2024-12-23 06:53:05.114988: I tensorflow/core/platform/cpu_feature_guard.cc:182] This TensorFlow binary is optimized to use available CPU instructions in performance-critical operations.\n",
      "To enable the following instructions: AVX2 FMA, in other operations, rebuild TensorFlow with the appropriate compiler flags.\n",
      "/home/pc02/ella/Larynt/DepressionEmo/./DepressionEmo/bert.py:358: FutureWarning: You are using `torch.load` with `weights_only=False` (the current default value), which uses the default pickle module implicitly. It is possible to construct malicious pickle data which will execute arbitrary code during unpickling (See https://github.com/pytorch/pytorch/blob/main/SECURITY.md#untrusted-models for more details). In a future release, the default value for `weights_only` will be flipped to `True`. This limits the functions that could be executed during unpickling. Arbitrary objects will no longer be allowed to be loaded via this mode unless they are explicitly allowlisted by the user via `torch.serialization.add_safe_globals`. We recommend you start setting `weights_only=True` for any use case where you don't have full control of the loaded file. Please open an issue on GitHub for any issues related to this experimental feature.\n",
      "  model.load_state_dict(torch.load(saved_model_file))\n",
      "result:  {'f1_micro': 0.7841589945930147, 'recall_micro': 0.8194868662186927, 'precision_micro': 0.7517511908097506, 'f1_macro': 0.7389007236757204, 'recall_macro': 0.7720863661452056, 'precision_macro': 0.710939424416199}\n"
     ]
    }
   ],
   "source": [
    "!python ./DepressionEmo/bert.py --mode \"test\" --train_path \"DepressionEmo/Dataset/train.json\" --val_path \"DepressionEmo/Dataset/val.json\" --test_path \"DepressionEmo/Dataset/test.json\" --max_length 300 --test_batch_size 16"
   ]
  },
  {
   "cell_type": "markdown",
   "metadata": {},
   "source": [
    "### 5. GAN BERT"
   ]
  },
  {
   "cell_type": "markdown",
   "metadata": {},
   "source": [
    "### 6. BART"
   ]
  },
  {
   "cell_type": "markdown",
   "metadata": {},
   "source": [
    "## Dataset 2"
   ]
  },
  {
   "cell_type": "code",
   "execution_count": 1,
   "metadata": {},
   "outputs": [],
   "source": [
    "label_list = [0,1,2]"
   ]
  },
  {
   "cell_type": "code",
   "execution_count": 2,
   "metadata": {},
   "outputs": [],
   "source": [
    "emotion_list = ['Figurative Mentions', 'Non-Health Mentions', 'Health mentions']"
   ]
  },
  {
   "cell_type": "markdown",
   "metadata": {},
   "source": [
    "### 1. SVM"
   ]
  },
  {
   "cell_type": "code",
   "execution_count": 6,
   "metadata": {},
   "outputs": [
    {
     "name": "stderr",
     "output_type": "stream",
     "text": [
      "/home/pc02/ella/.venv/lib/python3.10/site-packages/sklearn/utils/validation.py:1339: DataConversionWarning: A column-vector y was passed when a 1d array was expected. Please change the shape of y to (n_samples, ), for example using ravel().\n",
      "  y = column_or_1d(y, warn=True)\n"
     ]
    },
    {
     "name": "stdout",
     "output_type": "stream",
     "text": [
      "Fitting SVC took 10.09 seconds\n",
      "{'f1_micro': 0.0658682634730539, 'recall_micro': 0.043941411451398134, 'precision_micro': 0.13147410358565736, 'f1_macro': 0.04330708661417323, 'recall_macro': 0.04280155642023346, 'precision_macro': 0.04382470119521912}\n"
     ]
    },
    {
     "name": "stderr",
     "output_type": "stream",
     "text": [
      "/home/pc02/ella/.venv/lib/python3.10/site-packages/sklearn/metrics/_classification.py:1531: UndefinedMetricWarning: Precision is ill-defined and being set to 0.0 in labels with no predicted samples. Use `zero_division` parameter to control this behavior.\n",
      "  _warn_prf(average, modifier, f\"{metric.capitalize()} is\", len(result))\n"
     ]
    }
   ],
   "source": [
    "from DepressionEmo.svm import SVM_MentalHealthClassifier\n",
    "\n",
    "classifier = SVM_MentalHealthClassifier(\n",
    "    train_path='./Dataset2/RHMD-Health-Mention-Dataset/RHMD_3_Class.csv',\n",
    "    model_path='./Model/Dataset2/svc_model.pkl',\n",
    "    emotion_list=emotion_list,\n",
    "    label_list=label_list,\n",
    "    dataset_type='dataset2'\n",
    ")\n",
    "\n",
    "x_train, x_val, x_test, y_train, y_val, y_test = classifier.load_and_process_data()\n",
    "model = classifier.train_model(x_train, y_train)\n",
    "metrics = classifier.evaluate_model(model, x_test, y_test)"
   ]
  },
  {
   "cell_type": "markdown",
   "metadata": {},
   "source": [
    "### 2. Light GBM"
   ]
  },
  {
   "cell_type": "code",
   "execution_count": 3,
   "metadata": {},
   "outputs": [
    {
     "name": "stdout",
     "output_type": "stream",
     "text": [
      "{'f1_micro': 0.05997001499250375, 'recall_micro': 0.03994673768308921, 'precision_micro': 0.12024048096192384, 'f1_macro': 0.039486673247778874, 'recall_macro': 0.038910505836575876, 'precision_macro': 0.04008016032064128}\n"
     ]
    },
    {
     "name": "stderr",
     "output_type": "stream",
     "text": [
      "/home/pc02/ella/.venv/lib/python3.10/site-packages/sklearn/metrics/_classification.py:1531: UndefinedMetricWarning: Precision is ill-defined and being set to 0.0 in labels with no predicted samples. Use `zero_division` parameter to control this behavior.\n",
      "  _warn_prf(average, modifier, f\"{metric.capitalize()} is\", len(result))\n"
     ]
    },
    {
     "data": {
      "text/plain": [
       "{'f1_micro': 0.05997001499250375,\n",
       " 'recall_micro': 0.03994673768308921,\n",
       " 'precision_micro': 0.12024048096192384,\n",
       " 'f1_macro': 0.039486673247778874,\n",
       " 'recall_macro': 0.038910505836575876,\n",
       " 'precision_macro': 0.04008016032064128}"
      ]
     },
     "execution_count": 3,
     "metadata": {},
     "output_type": "execute_result"
    }
   ],
   "source": [
    "from DepressionEmo.light_gbm import LightGBM_MentalHealthClassifier\n",
    "\n",
    "classifier = LightGBM_MentalHealthClassifier(\n",
    "    train_path='./Dataset2/RHMD-Health-Mention-Dataset/RHMD_3_Class.csv',\n",
    "    model_save_path='./Model/Dataset2/LightGBM.txt',\n",
    "    emotion_list=emotion_list,\n",
    "    label_list=label_list,\n",
    "    dataset_type='dataset2'\n",
    ")\n",
    "\n",
    "classifier.train_model()"
   ]
  },
  {
   "cell_type": "markdown",
   "metadata": {},
   "source": [
    "### 3. XGBoost"
   ]
  },
  {
   "cell_type": "code",
   "execution_count": 3,
   "metadata": {},
   "outputs": [
    {
     "name": "stdout",
     "output_type": "stream",
     "text": [
      "Evaluation Results: {'f1_micro': 0.10637278390033542, 'recall_micro': 0.07390146471371505, 'precision_micro': 0.18974358974358974, 'f1_macro': 0.06733393994540492, 'recall_macro': 0.07198443579766538, 'precision_macro': 0.06324786324786325}\n"
     ]
    },
    {
     "name": "stderr",
     "output_type": "stream",
     "text": [
      "/home/pc02/ella/.venv/lib/python3.10/site-packages/sklearn/metrics/_classification.py:1531: UndefinedMetricWarning: Precision is ill-defined and being set to 0.0 in labels with no predicted samples. Use `zero_division` parameter to control this behavior.\n",
      "  _warn_prf(average, modifier, f\"{metric.capitalize()} is\", len(result))\n"
     ]
    }
   ],
   "source": [
    "from DepressionEmo.xgb import XGB_MentalHealthClassifier\n",
    "\n",
    "classifier = XGB_MentalHealthClassifier(\n",
    "    train_path='./Dataset2/RHMD-Health-Mention-Dataset/RHMD_3_Class.csv',\n",
    "    model_path='./Model/Dataset2/XGB.pkl',\n",
    "    max_depth=8,\n",
    "    n_estimators=100,\n",
    "    learning_rate=0.5,\n",
    "    emotion_list = emotion_list,\n",
    "    label_list=label_list,\n",
    "    dataset_type='dataset2'\n",
    ")\n",
    "\n",
    "x_train, x_test, x_val, y_train, y_test, y_val = classifier.load_data()\n",
    "model, label_encoder = classifier.train_model(x_train, y_train)\n",
    "result = classifier.evaluate_model(model, label_encoder, x_test, y_test)\n",
    "print(\"Evaluation Results:\", result)\n"
   ]
  },
  {
   "cell_type": "markdown",
   "metadata": {},
   "source": [
    "### 4. BERT"
   ]
  },
  {
   "cell_type": "code",
   "execution_count": null,
   "metadata": {},
   "outputs": [],
   "source": [
    "!python ./DepressionEmo/bert.py  --mode \"train\" --model_name \"bert-base-cased\" --epochs 25 --batch_size 8 --max_length 256 --train_path \"Dataset2/train.json\" --val_path \"Dataset2/val.json\" --test_path \"Dataset2/test.json\""
   ]
  },
  {
   "cell_type": "markdown",
   "metadata": {},
   "source": [
    "### 5. GAN BERT"
   ]
  },
  {
   "cell_type": "code",
   "execution_count": null,
   "metadata": {},
   "outputs": [],
   "source": []
  },
  {
   "cell_type": "markdown",
   "metadata": {},
   "source": [
    "### 6. BART"
   ]
  },
  {
   "cell_type": "markdown",
   "metadata": {},
   "source": [
    "## Dataset 3"
   ]
  },
  {
   "cell_type": "code",
   "execution_count": 1,
   "metadata": {},
   "outputs": [],
   "source": [
    "emotion_list = [0, 1]"
   ]
  },
  {
   "cell_type": "markdown",
   "metadata": {},
   "source": [
    "### 1. SVM"
   ]
  },
  {
   "cell_type": "code",
   "execution_count": 9,
   "metadata": {},
   "outputs": [
    {
     "name": "stdout",
     "output_type": "stream",
     "text": [
      "Extra columns in train: []\n",
      "Extra columns in test: []\n"
     ]
    },
    {
     "name": "stderr",
     "output_type": "stream",
     "text": [
      "/home/pc02/ella/.venv/lib/python3.10/site-packages/sklearn/utils/validation.py:1339: DataConversionWarning: A column-vector y was passed when a 1d array was expected. Please change the shape of y to (n_samples, ), for example using ravel().\n",
      "  y = column_or_1d(y, warn=True)\n"
     ]
    },
    {
     "name": "stdout",
     "output_type": "stream",
     "text": [
      "Fitting SVC took 2.5 seconds\n",
      "{'f1_micro': 0.1613316261203585, 'recall_micro': 0.11819887429643527, 'precision_micro': 0.2540322580645161, 'f1_macro': 0.1218568665377176, 'recall_macro': 0.1171003717472119, 'precision_macro': 0.12701612903225806}\n"
     ]
    },
    {
     "name": "stderr",
     "output_type": "stream",
     "text": [
      "/home/pc02/ella/.venv/lib/python3.10/site-packages/sklearn/metrics/_classification.py:1531: UndefinedMetricWarning: Precision is ill-defined and being set to 0.0 in labels with no predicted samples. Use `zero_division` parameter to control this behavior.\n",
      "  _warn_prf(average, modifier, f\"{metric.capitalize()} is\", len(result))\n"
     ]
    }
   ],
   "source": [
    "from DepressionEmo.svm import SVM_MentalHealthClassifier\n",
    "\n",
    "classifier = SVM_MentalHealthClassifier(\n",
    "    train_path='./Dataset3/dreaddit-train.csv',\n",
    "    model_path='./Model/Dataset3/svc_model.pkl',\n",
    "    emotion_list=emotion_list,\n",
    "    label_list=emotion_list,\n",
    "    test_path='./Dataset3/dreaddit-test.csv',\n",
    "    dataset_type='dataset3'\n",
    ")\n",
    "\n",
    "x_train, x_val, x_test, y_train, y_val, y_test = classifier.load_and_process_data()\n",
    "model = classifier.train_model(x_train, y_train)\n",
    "metrics = classifier.evaluate_model(model, x_test, y_test)"
   ]
  },
  {
   "cell_type": "markdown",
   "metadata": {},
   "source": [
    "### 2. Light GBM"
   ]
  },
  {
   "cell_type": "code",
   "execution_count": 2,
   "metadata": {},
   "outputs": [
    {
     "name": "stdout",
     "output_type": "stream",
     "text": [
      "Extra columns in train: []\n",
      "Extra columns in test: []\n",
      "{'f1_micro': 0.1710691823899371, 'recall_micro': 0.1275797373358349, 'precision_micro': 0.2595419847328244, 'f1_macro': 0.128060263653484, 'recall_macro': 0.12639405204460966, 'precision_macro': 0.1297709923664122}\n"
     ]
    },
    {
     "name": "stderr",
     "output_type": "stream",
     "text": [
      "/home/pc02/ella/.venv/lib/python3.10/site-packages/sklearn/metrics/_classification.py:1531: UndefinedMetricWarning: Precision is ill-defined and being set to 0.0 in labels with no predicted samples. Use `zero_division` parameter to control this behavior.\n",
      "  _warn_prf(average, modifier, f\"{metric.capitalize()} is\", len(result))\n"
     ]
    },
    {
     "data": {
      "text/plain": [
       "{'f1_micro': 0.1710691823899371,\n",
       " 'recall_micro': 0.1275797373358349,\n",
       " 'precision_micro': 0.2595419847328244,\n",
       " 'f1_macro': 0.128060263653484,\n",
       " 'recall_macro': 0.12639405204460966,\n",
       " 'precision_macro': 0.1297709923664122}"
      ]
     },
     "execution_count": 2,
     "metadata": {},
     "output_type": "execute_result"
    }
   ],
   "source": [
    "from DepressionEmo.light_gbm import LightGBM_MentalHealthClassifier\n",
    "\n",
    "classifier = LightGBM_MentalHealthClassifier(\n",
    "    train_path='./Dataset3/dreaddit-train.csv',\n",
    "    model_save_path='./Model/Dataset3/LightGBM.txt',\n",
    "    emotion_list=emotion_list,\n",
    "    label_list=emotion_list,\n",
    "    test_path='./Dataset3/dreaddit-test.csv',\n",
    "    dataset_type='dataset3'\n",
    ")\n",
    "\n",
    "classifier.train_model()"
   ]
  },
  {
   "cell_type": "markdown",
   "metadata": {},
   "source": [
    "### 3. XGBoost"
   ]
  },
  {
   "cell_type": "code",
   "execution_count": 2,
   "metadata": {},
   "outputs": [
    {
     "name": "stdout",
     "output_type": "stream",
     "text": [
      "Extra columns in train: []\n",
      "Extra columns in test: []\n",
      "Evaluation Results: {'f1_micro': 0.22081218274111675, 'recall_micro': 0.16322701688555347, 'precision_micro': 0.3411764705882353, 'f1_macro': 0.16603053435114504, 'recall_macro': 0.16171003717472118, 'precision_macro': 0.17058823529411765}\n"
     ]
    },
    {
     "name": "stderr",
     "output_type": "stream",
     "text": [
      "/home/pc02/ella/.venv/lib/python3.10/site-packages/sklearn/metrics/_classification.py:1531: UndefinedMetricWarning: Precision is ill-defined and being set to 0.0 in labels with no predicted samples. Use `zero_division` parameter to control this behavior.\n",
      "  _warn_prf(average, modifier, f\"{metric.capitalize()} is\", len(result))\n"
     ]
    }
   ],
   "source": [
    "from DepressionEmo.xgb import XGB_MentalHealthClassifier\n",
    "\n",
    "classifier = XGB_MentalHealthClassifier(\n",
    "    train_path='./Dataset3/dreaddit-train.csv',\n",
    "    test_path='./Dataset3/dreaddit-test.csv',\n",
    "    model_path='./Model/Dataset3/XGB.pkl',\n",
    "    max_depth=8,\n",
    "    n_estimators=100,\n",
    "    learning_rate=0.5,\n",
    "    emotion_list = emotion_list,\n",
    "    label_list=emotion_list,\n",
    "    dataset_type='dataset3'\n",
    ")\n",
    "\n",
    "x_train, x_test, x_val, y_train, y_test, y_val = classifier.load_data()\n",
    "model, label_encoder = classifier.train_model(x_train, y_train)\n",
    "result = classifier.evaluate_model(model, label_encoder, x_test, y_test)\n",
    "print(\"Evaluation Results:\", result)\n"
   ]
  },
  {
   "cell_type": "markdown",
   "metadata": {},
   "source": [
    "### 4. BERT"
   ]
  },
  {
   "cell_type": "markdown",
   "metadata": {},
   "source": [
    "### 5. GAN BERT"
   ]
  },
  {
   "cell_type": "markdown",
   "metadata": {},
   "source": [
    "### 6. BART"
   ]
  }
 ],
 "metadata": {
  "kernelspec": {
   "display_name": ".venv",
   "language": "python",
   "name": "python3"
  },
  "language_info": {
   "codemirror_mode": {
    "name": "ipython",
    "version": 3
   },
   "file_extension": ".py",
   "mimetype": "text/x-python",
   "name": "python",
   "nbconvert_exporter": "python",
   "pygments_lexer": "ipython3",
   "version": "3.10.15"
  }
 },
 "nbformat": 4,
 "nbformat_minor": 2
}
